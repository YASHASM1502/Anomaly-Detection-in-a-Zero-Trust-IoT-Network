{
 "cells": [
  {
   "cell_type": "markdown",
   "id": "7bb289b2",
   "metadata": {},
   "source": [
    "# 🛡️ Anomaly Detection in a Zero Trust IoT Network\n",
    "This notebook demonstrates how to detect anomalies in IoT network traffic using Isolation Forest, in the context of a Zero Trust architecture."
   ]
  },
  {
   "cell_type": "code",
   "execution_count": null,
   "id": "285667db",
   "metadata": {},
   "outputs": [],
   "source": [
    "import pandas as pd\n",
    "import numpy as np\n",
    "from sklearn.ensemble import IsolationForest\n",
    "import matplotlib.pyplot as plt\n",
    "import seaborn as sns\n",
    "from sklearn.metrics import classification_report, confusion_matrix"
   ]
  },
  {
   "cell_type": "markdown",
   "id": "2037ffb3",
   "metadata": {},
   "source": [
    "## 🔧 Simulate IoT Network Traffic Data\n",
    "We simulate normal and abnormal IoT behavior using random distributions."
   ]
  },
  {
   "cell_type": "code",
   "execution_count": null,
   "id": "a9a5eea3",
   "metadata": {},
   "outputs": [],
   "source": [
    "# Normal data\n",
    "np.random.seed(42)\n",
    "normal_data = {\n",
    "    'packet_size': np.random.normal(500, 50, 1000),\n",
    "    'duration': np.random.normal(60, 10, 1000),\n",
    "    'src_port': np.random.randint(1000, 5000, 1000),\n",
    "    'dst_port': np.random.randint(8000, 9000, 1000),\n",
    "    'bytes_sent': np.random.normal(2000, 300, 1000),\n",
    "    'bytes_received': np.random.normal(1800, 250, 1000)\n",
    "}\n",
    "# Anomaly data\n",
    "anomaly_data = {\n",
    "    'packet_size': np.random.normal(1000, 10, 50),\n",
    "    'duration': np.random.normal(200, 20, 50),\n",
    "    'src_port': np.random.randint(6000, 7000, 50),\n",
    "    'dst_port': np.random.randint(9000, 10000, 50),\n",
    "    'bytes_sent': np.random.normal(10000, 200, 50),\n",
    "    'bytes_received': np.random.normal(9000, 150, 50)\n",
    "}\n",
    "# Create DataFrames\n",
    "df_normal = pd.DataFrame(normal_data)\n",
    "df_anomaly = pd.DataFrame(anomaly_data)\n",
    "df = pd.concat([df_normal, df_anomaly], ignore_index=True)\n",
    "df['label'] = [0]*1000 + [1]*50  # 0 = normal, 1 = anomaly"
   ]
  },
  {
   "cell_type": "markdown",
   "id": "2f988489",
   "metadata": {},
   "source": [
    "## 🚨 Train Isolation Forest Model"
   ]
  },
  {
   "cell_type": "code",
   "execution_count": null,
   "id": "4bbf7a42",
   "metadata": {},
   "outputs": [],
   "source": [
    "features = ['packet_size', 'duration', 'src_port', 'dst_port', 'bytes_sent', 'bytes_received']\n",
    "model = IsolationForest(contamination=0.05, random_state=42)\n",
    "df['pred'] = model.fit_predict(df[features])\n",
    "df['pred'] = df['pred'].apply(lambda x: 1 if x == -1 else 0)"
   ]
  },
  {
   "cell_type": "markdown",
   "id": "55644d19",
   "metadata": {},
   "source": [
    "## 📊 Evaluate Model Performance"
   ]
  },
  {
   "cell_type": "code",
   "execution_count": null,
   "id": "ef6634f5",
   "metadata": {},
   "outputs": [],
   "source": [
    "report = classification_report(df['label'], df['pred'], target_names=['Normal', 'Anomaly'])\n",
    "conf_matrix = confusion_matrix(df['label'], df['pred'])\n",
    "print(\"Classification Report:\\n\", report)\n",
    "print(\"Confusion Matrix:\\n\", conf_matrix)"
   ]
  },
  {
   "cell_type": "markdown",
   "id": "7a2df5a9",
   "metadata": {},
   "source": [
    "## 📉 Visualize Anomaly Detection"
   ]
  },
  {
   "cell_type": "code",
   "execution_count": null,
   "id": "01b66469",
   "metadata": {},
   "outputs": [],
   "source": [
    "sns.scatterplot(x='bytes_sent', y='bytes_received', hue='pred', data=df)\n",
    "plt.title(\"Anomaly Detection in IoT Traffic\")\n",
    "plt.show()"
   ]
  }
 ],
 "metadata": {},
 "nbformat": 4,
 "nbformat_minor": 5
}